{
  "nbformat": 4,
  "nbformat_minor": 0,
  "metadata": {
    "colab": {
      "provenance": [],
      "authorship_tag": "ABX9TyNJZ/GzACRxM3WmmXQqhMVB",
      "include_colab_link": true
    },
    "kernelspec": {
      "name": "python3",
      "display_name": "Python 3"
    },
    "language_info": {
      "name": "python"
    }
  },
  "cells": [
    {
      "cell_type": "markdown",
      "metadata": {
        "id": "view-in-github",
        "colab_type": "text"
      },
      "source": [
        "<a href=\"https://colab.research.google.com/github/MthabisiPatrice/Machine-Learning-/blob/main/clothing_deep_learning.ipynb\" target=\"_parent\"><img src=\"https://colab.research.google.com/assets/colab-badge.svg\" alt=\"Open In Colab\"/></a>"
      ]
    },
    {
      "cell_type": "code",
      "source": [
        "\"\"\"\n",
        "DL Project: Fashion MNIST Clothing Classification (Template)\n",
        "- Trains 3 model variants (Baseline CNN, Deeper CNN, CNN+Dropout+BatchNorm)\n",
        "- Produces comparison table + plots\n",
        "\"\"\"\n",
        "\n",
        "import os, random\n",
        "import numpy as np\n",
        "import pandas as pd\n",
        "import matplotlib.pyplot as plt\n",
        "from datetime import datetime\n",
        "\n",
        "import tensorflow as tf\n",
        "from tensorflow.keras import layers, models, callbacks\n",
        "from tensorflow.keras.datasets import fashion_mnist\n",
        "from sklearn.metrics import accuracy_score, classification_report, confusion_matrix\n"
      ],
      "metadata": {
        "id": "qmDB5sR2wkaJ"
      },
      "execution_count": 3,
      "outputs": []
    },
    {
      "cell_type": "code",
      "source": [
        "# ----------------------\n",
        "# Reproducibility\n",
        "# ----------------------\n",
        "SEED = 42\n",
        "random.seed(SEED)\n",
        "np.random.seed(SEED)\n",
        "tf.random.set_seed(SEED)\n"
      ],
      "metadata": {
        "id": "sFa_taCEwtWH"
      },
      "execution_count": 4,
      "outputs": []
    },
    {
      "cell_type": "code",
      "source": [
        "# ----------------------\n",
        "# Config\n",
        "# ----------------------\n",
        "CFG = {\n",
        "    \"batch_size\": 128,\n",
        "    \"epochs\": 8,\n",
        "    \"patience\": 2,\n",
        "    \"models\": [\"baseline\", \"deeper\", \"dropout_bn\"],\n",
        "}\n",
        "\n",
        "OUTDIR = \"outputs_fashion_\" + datetime.now().strftime(\"%Y%m%d_%H%M%S\")\n",
        "os.makedirs(OUTDIR, exist_ok=True)\n"
      ],
      "metadata": {
        "id": "qfLri1wkwtLt"
      },
      "execution_count": 5,
      "outputs": []
    },
    {
      "cell_type": "code",
      "source": [
        "# ----------------------\n",
        "# Data Loading\n",
        "# ----------------------\n",
        "(x_train, y_train), (x_test, y_test) = fashion_mnist.load_data()\n",
        "\n",
        "# Normalize + reshape\n",
        "x_train = (x_train / 255.0).astype(np.float32).reshape(-1, 28, 28, 1)\n",
        "x_test  = (x_test / 255.0).astype(np.float32).reshape(-1, 28, 28, 1)\n",
        "\n",
        "# Split train/val\n",
        "val_frac = 0.1\n",
        "n_val = int(len(x_train) * val_frac)\n",
        "x_val, y_val = x_train[:n_val], y_train[:n_val]\n",
        "x_train, y_train = x_train[n_val:], y_train[n_val:]\n",
        "\n",
        "num_classes = 10\n"
      ],
      "metadata": {
        "colab": {
          "base_uri": "https://localhost:8080/"
        },
        "id": "TJBRn7W3w2ZN",
        "outputId": "1638cca3-dc9b-44d0-9a88-7caae14fce12"
      },
      "execution_count": 6,
      "outputs": [
        {
          "output_type": "stream",
          "name": "stdout",
          "text": [
            "Downloading data from https://storage.googleapis.com/tensorflow/tf-keras-datasets/train-labels-idx1-ubyte.gz\n",
            "\u001b[1m29515/29515\u001b[0m \u001b[32m━━━━━━━━━━━━━━━━━━━━\u001b[0m\u001b[37m\u001b[0m \u001b[1m0s\u001b[0m 0us/step\n",
            "Downloading data from https://storage.googleapis.com/tensorflow/tf-keras-datasets/train-images-idx3-ubyte.gz\n",
            "\u001b[1m26421880/26421880\u001b[0m \u001b[32m━━━━━━━━━━━━━━━━━━━━\u001b[0m\u001b[37m\u001b[0m \u001b[1m2s\u001b[0m 0us/step\n",
            "Downloading data from https://storage.googleapis.com/tensorflow/tf-keras-datasets/t10k-labels-idx1-ubyte.gz\n",
            "\u001b[1m5148/5148\u001b[0m \u001b[32m━━━━━━━━━━━━━━━━━━━━\u001b[0m\u001b[37m\u001b[0m \u001b[1m0s\u001b[0m 0us/step\n",
            "Downloading data from https://storage.googleapis.com/tensorflow/tf-keras-datasets/t10k-images-idx3-ubyte.gz\n",
            "\u001b[1m4422102/4422102\u001b[0m \u001b[32m━━━━━━━━━━━━━━━━━━━━\u001b[0m\u001b[37m\u001b[0m \u001b[1m1s\u001b[0m 0us/step\n"
          ]
        }
      ]
    },
    {
      "cell_type": "code",
      "source": [
        "# ----------------------\n",
        "# Model Definitions\n",
        "# ----------------------\n",
        "\n",
        "def build_baseline():\n",
        "    model = models.Sequential([\n",
        "        layers.Conv2D(32, (3,3), activation=\"relu\", input_shape=(28,28,1)),\n",
        "        layers.MaxPooling2D((2,2)),\n",
        "        layers.Flatten(),\n",
        "        layers.Dense(64, activation=\"relu\"),\n",
        "        layers.Dense(num_classes, activation=\"softmax\")\n",
        "    ])\n",
        "    model.compile(optimizer=\"adam\", loss=\"sparse_categorical_crossentropy\", metrics=[\"accuracy\"])\n",
        "    return model\n",
        "\n",
        "\n",
        "def build_deeper():\n",
        "    model = models.Sequential([\n",
        "        layers.Conv2D(32, (3,3), activation=\"relu\", input_shape=(28,28,1)),\n",
        "        layers.Conv2D(64, (3,3), activation=\"relu\"),\n",
        "        layers.MaxPooling2D((2,2)),\n",
        "        layers.Flatten(),\n",
        "        layers.Dense(128, activation=\"relu\"),\n",
        "        layers.Dense(num_classes, activation=\"softmax\")\n",
        "    ])\n",
        "    model.compile(optimizer=\"adam\", loss=\"sparse_categorical_crossentropy\", metrics=[\"accuracy\"])\n",
        "    return model\n",
        "\n",
        "\n",
        "def build_dropout_bn():\n",
        "    model = models.Sequential([\n",
        "        layers.Conv2D(32, (3,3), activation=\"relu\", input_shape=(28,28,1)),\n",
        "        layers.BatchNormalization(),\n",
        "        layers.Conv2D(64, (3,3), activation=\"relu\"),\n",
        "        layers.BatchNormalization(),\n",
        "        layers.MaxPooling2D((2,2)),\n",
        "        layers.Dropout(0.25),\n",
        "        layers.Flatten(),\n",
        "        layers.Dense(128, activation=\"relu\"),\n",
        "        layers.Dropout(0.5),\n",
        "        layers.Dense(num_classes, activation=\"softmax\")\n",
        "    ])\n",
        "    model.compile(optimizer=\"adam\", loss=\"sparse_categorical_crossentropy\", metrics=[\"accuracy\"])\n",
        "    return model\n"
      ],
      "metadata": {
        "id": "JljbrDp6w6US"
      },
      "execution_count": 7,
      "outputs": []
    },
    {
      "cell_type": "code",
      "source": [
        "# ----------------------\n",
        "# Training Utility\n",
        "# ----------------------\n",
        "\n",
        "def train_and_eval(model_fn, name):\n",
        "    cbs = [\n",
        "        callbacks.EarlyStopping(patience=CFG[\"patience\"], restore_best_weights=True, monitor=\"val_accuracy\"),\n",
        "        callbacks.ModelCheckpoint(os.path.join(OUTDIR, f\"best_{name}.keras\"), save_best_only=True, monitor=\"val_accuracy\"),\n",
        "    ]\n",
        "    model = model_fn()\n",
        "    history = model.fit(\n",
        "        x_train, y_train,\n",
        "        validation_data=(x_val, y_val),\n",
        "        epochs=CFG[\"epochs\"],\n",
        "        batch_size=CFG[\"batch_size\"],\n",
        "        callbacks=cbs,\n",
        "        verbose=2,\n",
        "    )\n",
        "\n",
        "    # Evaluate\n",
        "    y_pred = np.argmax(model.predict(x_test), axis=1)\n",
        "    acc = accuracy_score(y_test, y_pred)\n",
        "\n",
        "    report = classification_report(y_test, y_pred, digits=4)\n",
        "    with open(os.path.join(OUTDIR, f\"report_{name}.txt\"), \"w\") as f:\n",
        "        f.write(report)\n",
        "\n",
        "    # Plot curves\n",
        "    plt.figure()\n",
        "    plt.plot(history.history[\"accuracy\"], label=\"train_acc\")\n",
        "    plt.plot(history.history[\"val_accuracy\"], label=\"val_acc\")\n",
        "    plt.title(f\"Accuracy – {name}\")\n",
        "    plt.legend()\n",
        "    plt.savefig(os.path.join(OUTDIR, f\"acc_{name}.png\"))\n",
        "    plt.close()\n",
        "\n",
        "    return {\"model\": name, \"test_accuracy\": round(acc,4)}\n"
      ],
      "metadata": {
        "id": "nRR-x1STw7Pr"
      },
      "execution_count": 8,
      "outputs": []
    },
    {
      "cell_type": "code",
      "source": [
        "# ----------------------\n",
        "# Main\n",
        "# ----------------------\n",
        "\n",
        "def main():\n",
        "    results = []\n",
        "    for m in CFG[\"models\"]:\n",
        "        if m == \"baseline\":\n",
        "            res = train_and_eval(build_baseline, m)\n",
        "        elif m == \"deeper\":\n",
        "            res = train_and_eval(build_deeper, m)\n",
        "        elif m == \"dropout_bn\":\n",
        "            res = train_and_eval(build_dropout_bn, m)\n",
        "        results.append(res)\n",
        "\n",
        "    df = pd.DataFrame(results).sort_values(\"test_accuracy\", ascending=False)\n",
        "    df.to_csv(os.path.join(OUTDIR, \"summary.csv\"), index=False)\n",
        "    print(\"\\n=== Summary ===\\n\", df)\n",
        "\n",
        "if __name__ == \"__main__\":\n",
        "    main()"
      ],
      "metadata": {
        "colab": {
          "base_uri": "https://localhost:8080/"
        },
        "id": "3JvZrV9TxCqd",
        "outputId": "b972db1a-2706-4391-86dd-7755ef65bece"
      },
      "execution_count": 9,
      "outputs": [
        {
          "output_type": "stream",
          "name": "stderr",
          "text": [
            "/usr/local/lib/python3.12/dist-packages/keras/src/layers/convolutional/base_conv.py:113: UserWarning: Do not pass an `input_shape`/`input_dim` argument to a layer. When using Sequential models, prefer using an `Input(shape)` object as the first layer in the model instead.\n",
            "  super().__init__(activity_regularizer=activity_regularizer, **kwargs)\n"
          ]
        },
        {
          "output_type": "stream",
          "name": "stdout",
          "text": [
            "Epoch 1/8\n",
            "422/422 - 25s - 59ms/step - accuracy: 0.8292 - loss: 0.4955 - val_accuracy: 0.8727 - val_loss: 0.3640\n",
            "Epoch 2/8\n",
            "422/422 - 21s - 49ms/step - accuracy: 0.8860 - loss: 0.3246 - val_accuracy: 0.8893 - val_loss: 0.3145\n",
            "Epoch 3/8\n",
            "422/422 - 44s - 104ms/step - accuracy: 0.9003 - loss: 0.2811 - val_accuracy: 0.8980 - val_loss: 0.2911\n",
            "Epoch 4/8\n",
            "422/422 - 39s - 94ms/step - accuracy: 0.9104 - loss: 0.2516 - val_accuracy: 0.9033 - val_loss: 0.2775\n",
            "Epoch 5/8\n",
            "422/422 - 40s - 94ms/step - accuracy: 0.9181 - loss: 0.2291 - val_accuracy: 0.9078 - val_loss: 0.2650\n",
            "Epoch 6/8\n",
            "422/422 - 42s - 100ms/step - accuracy: 0.9250 - loss: 0.2104 - val_accuracy: 0.9122 - val_loss: 0.2579\n",
            "Epoch 7/8\n",
            "422/422 - 20s - 49ms/step - accuracy: 0.9314 - loss: 0.1940 - val_accuracy: 0.9152 - val_loss: 0.2524\n",
            "Epoch 8/8\n",
            "422/422 - 42s - 100ms/step - accuracy: 0.9370 - loss: 0.1790 - val_accuracy: 0.9160 - val_loss: 0.2521\n",
            "\u001b[1m313/313\u001b[0m \u001b[32m━━━━━━━━━━━━━━━━━━━━\u001b[0m\u001b[37m\u001b[0m \u001b[1m2s\u001b[0m 5ms/step\n"
          ]
        },
        {
          "output_type": "stream",
          "name": "stderr",
          "text": [
            "/usr/local/lib/python3.12/dist-packages/keras/src/layers/convolutional/base_conv.py:113: UserWarning: Do not pass an `input_shape`/`input_dim` argument to a layer. When using Sequential models, prefer using an `Input(shape)` object as the first layer in the model instead.\n",
            "  super().__init__(activity_regularizer=activity_regularizer, **kwargs)\n"
          ]
        },
        {
          "output_type": "stream",
          "name": "stdout",
          "text": [
            "Epoch 1/8\n",
            "422/422 - 120s - 285ms/step - accuracy: 0.8425 - loss: 0.4480 - val_accuracy: 0.8900 - val_loss: 0.3148\n",
            "Epoch 2/8\n",
            "422/422 - 138s - 328ms/step - accuracy: 0.8998 - loss: 0.2784 - val_accuracy: 0.9068 - val_loss: 0.2608\n",
            "Epoch 3/8\n",
            "422/422 - 113s - 269ms/step - accuracy: 0.9176 - loss: 0.2271 - val_accuracy: 0.9143 - val_loss: 0.2379\n",
            "Epoch 4/8\n",
            "422/422 - 142s - 336ms/step - accuracy: 0.9321 - loss: 0.1895 - val_accuracy: 0.9185 - val_loss: 0.2288\n",
            "Epoch 5/8\n",
            "422/422 - 143s - 339ms/step - accuracy: 0.9436 - loss: 0.1574 - val_accuracy: 0.9215 - val_loss: 0.2304\n",
            "Epoch 6/8\n",
            "422/422 - 141s - 334ms/step - accuracy: 0.9549 - loss: 0.1297 - val_accuracy: 0.9188 - val_loss: 0.2426\n",
            "Epoch 7/8\n",
            "422/422 - 113s - 267ms/step - accuracy: 0.9634 - loss: 0.1062 - val_accuracy: 0.9172 - val_loss: 0.2637\n",
            "\u001b[1m313/313\u001b[0m \u001b[32m━━━━━━━━━━━━━━━━━━━━\u001b[0m\u001b[37m\u001b[0m \u001b[1m6s\u001b[0m 18ms/step\n"
          ]
        },
        {
          "output_type": "stream",
          "name": "stderr",
          "text": [
            "/usr/local/lib/python3.12/dist-packages/keras/src/layers/convolutional/base_conv.py:113: UserWarning: Do not pass an `input_shape`/`input_dim` argument to a layer. When using Sequential models, prefer using an `Input(shape)` object as the first layer in the model instead.\n",
            "  super().__init__(activity_regularizer=activity_regularizer, **kwargs)\n"
          ]
        },
        {
          "output_type": "stream",
          "name": "stdout",
          "text": [
            "Epoch 1/8\n",
            "422/422 - 173s - 410ms/step - accuracy: 0.7789 - loss: 0.6427 - val_accuracy: 0.7768 - val_loss: 1.0500\n",
            "Epoch 2/8\n",
            "422/422 - 204s - 484ms/step - accuracy: 0.8452 - loss: 0.4295 - val_accuracy: 0.8922 - val_loss: 0.3004\n",
            "Epoch 3/8\n",
            "422/422 - 201s - 476ms/step - accuracy: 0.8685 - loss: 0.3628 - val_accuracy: 0.8957 - val_loss: 0.2821\n",
            "Epoch 4/8\n",
            "422/422 - 199s - 472ms/step - accuracy: 0.8836 - loss: 0.3224 - val_accuracy: 0.9037 - val_loss: 0.2585\n",
            "Epoch 5/8\n",
            "422/422 - 165s - 391ms/step - accuracy: 0.8943 - loss: 0.2888 - val_accuracy: 0.9100 - val_loss: 0.2471\n",
            "Epoch 6/8\n",
            "422/422 - 205s - 486ms/step - accuracy: 0.8989 - loss: 0.2741 - val_accuracy: 0.8982 - val_loss: 0.2863\n",
            "Epoch 7/8\n",
            "422/422 - 198s - 470ms/step - accuracy: 0.9049 - loss: 0.2574 - val_accuracy: 0.9173 - val_loss: 0.2380\n",
            "Epoch 8/8\n",
            "422/422 - 205s - 485ms/step - accuracy: 0.9125 - loss: 0.2379 - val_accuracy: 0.9162 - val_loss: 0.2356\n",
            "\u001b[1m313/313\u001b[0m \u001b[32m━━━━━━━━━━━━━━━━━━━━\u001b[0m\u001b[37m\u001b[0m \u001b[1m8s\u001b[0m 24ms/step\n",
            "\n",
            "=== Summary ===\n",
            "         model  test_accuracy\n",
            "1      deeper         0.9162\n",
            "2  dropout_bn         0.9113\n",
            "0    baseline         0.9082\n"
          ]
        }
      ]
    }
  ]
}
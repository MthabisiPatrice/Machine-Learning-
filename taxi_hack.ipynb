{
  "nbformat": 4,
  "nbformat_minor": 0,
  "metadata": {
    "colab": {
      "provenance": [],
      "gpuType": "T4",
      "authorship_tag": "ABX9TyOwjv0B7WYXiKNr2z7geram",
      "include_colab_link": true
    },
    "kernelspec": {
      "name": "python3",
      "display_name": "Python 3"
    },
    "language_info": {
      "name": "python"
    },
    "accelerator": "GPU"
  },
  "cells": [
    {
      "cell_type": "markdown",
      "metadata": {
        "id": "view-in-github",
        "colab_type": "text"
      },
      "source": [
        "<a href=\"https://colab.research.google.com/github/MthabisiPatrice/Machine-Learning-/blob/main/taxi_hack.ipynb\" target=\"_parent\"><img src=\"https://colab.research.google.com/assets/colab-badge.svg\" alt=\"Open In Colab\"/></a>"
      ]
    },
    {
      "cell_type": "markdown",
      "source": [
        "Dataset Description\n",
        "\n",
        "This dataset is designed to predict taxi trip fares based on various factors such as distance, time of day, traffic conditions, and more. It provides realistic synthetic data for regression tasks, offering a unique opportunity to explore pricing trends in the taxi industry.\n",
        "\n",
        "Key Features\n",
        "\n",
        "Distance (in kilometers): The length of the trip.\n",
        "Pickup Time: The starting time of the trip.\n",
        "Dropoff Time: The ending time of the trip.\n",
        "Traffic Condition: Categorical indicator of traffic (light, medium, heavy).\n",
        "Passenger Count: Number of passengers for the trip.\n",
        "Weather Condition: Categorical data for weather (clear, rain, snow).\n",
        "Trip Duration (in minutes): Total trip time.\n",
        "Fare Amount (target): The cost of the trip (in USD)."
      ],
      "metadata": {
        "id": "TqV0nTOGccVz"
      }
    },
    {
      "cell_type": "code",
      "execution_count": 3,
      "metadata": {
        "id": "ECU0epP_Yd_v"
      },
      "outputs": [],
      "source": [
        "from xgboost import XGBRegressor\n",
        "from sklearn.model_selection import train_test_split\n",
        "from sklearn.metrics import mean_squared_error\n",
        "import pandas as pd\n",
        "import numpy as np\n",
        "import xgboost as xgb\n",
        "import numpy as np\n",
        "from sklearn.model_selection import train_test_split, GridSearchCV\n",
        "from sklearn.metrics import accuracy_score, confusion_matrix, classification_report\n",
        "from sklearn.preprocessing import StandardScaler, LabelEncoder\n",
        "from xgboost import XGBRegressor\n",
        "from sklearn.model_selection import train_test_split\n",
        "from sklearn.metrics import mean_squared_error, r2_score\n",
        "from matplotlib import pyplot as plt\n",
        "import seaborn as sns\n",
        "from xgboost import XGBRegressor\n",
        "from sklearn import tree\n",
        "from sklearn.metrics import mean_squared_error\n",
        "from imblearn.over_sampling import RandomOverSampler\n",
        "from sklearn.preprocessing import MinMaxScaler\n",
        "from sklearn.tree import DecisionTreeClassifier\n",
        "from sklearn.preprocessing import OneHotEncoder\n",
        "from sklearn.model_selection import train_test_split\n",
        "from sklearn.ensemble import RandomForestClassifier\n",
        "from sklearn.metrics import recall_score, precision_score, f1_score, accuracy_score, r2_score\n",
        "import altair as alt\n",
        "from geopy.distance import geodesic\n",
        "import math"
      ]
    },
    {
      "cell_type": "code",
      "source": [
        "taxi = pd.read_csv('/content/taxi_data.csv')"
      ],
      "metadata": {
        "id": "Wfd6pzJLYwwL"
      },
      "execution_count": 4,
      "outputs": []
    },
    {
      "cell_type": "code",
      "source": [
        "taxi.info()"
      ],
      "metadata": {
        "colab": {
          "base_uri": "https://localhost:8080/"
        },
        "id": "M-jABJaBZJo1",
        "outputId": "1055cfd4-8e22-49b8-ba80-d2b843b89d1e"
      },
      "execution_count": 5,
      "outputs": [
        {
          "output_type": "stream",
          "name": "stdout",
          "text": [
            "<class 'pandas.core.frame.DataFrame'>\n",
            "RangeIndex: 1000 entries, 0 to 999\n",
            "Data columns (total 11 columns):\n",
            " #   Column                 Non-Null Count  Dtype  \n",
            "---  ------                 --------------  -----  \n",
            " 0   Trip_Distance_km       950 non-null    float64\n",
            " 1   Time_of_Day            950 non-null    object \n",
            " 2   Day_of_Week            950 non-null    object \n",
            " 3   Passenger_Count        950 non-null    float64\n",
            " 4   Traffic_Conditions     950 non-null    object \n",
            " 5   Weather                950 non-null    object \n",
            " 6   Base_Fare              950 non-null    float64\n",
            " 7   Per_Km_Rate            950 non-null    float64\n",
            " 8   Per_Minute_Rate        950 non-null    float64\n",
            " 9   Trip_Duration_Minutes  950 non-null    float64\n",
            " 10  Trip_Price             951 non-null    float64\n",
            "dtypes: float64(7), object(4)\n",
            "memory usage: 86.1+ KB\n"
          ]
        }
      ]
    },
    {
      "cell_type": "code",
      "source": [
        "import pandas as pd\n",
        "\n",
        "# Fill missing values for numerical columns with their mean\n",
        "taxi['Trip_Distance_km'] = taxi['Trip_Distance_km'].fillna(taxi['Trip_Distance_km'].mean())\n",
        "taxi['Passenger_Count'] = taxi['Passenger_Count'].fillna(taxi['Passenger_Count'].mean())\n",
        "taxi['Base_Fare'] = taxi['Base_Fare'].fillna(taxi['Base_Fare'].mean())\n",
        "taxi['Per_Km_Rate'] = taxi['Per_Km_Rate'].fillna(taxi['Per_Km_Rate'].mean())\n",
        "taxi['Per_Minute_Rate'] = taxi['Per_Minute_Rate'].fillna(taxi['Per_Minute_Rate'].mean())\n",
        "taxi['Trip_Duration_Minutes'] = taxi['Trip_Duration_Minutes'].fillna(taxi['Trip_Duration_Minutes'].mean())\n",
        "taxi['Trip_Price'] = taxi['Trip_Price'].fillna(taxi['Trip_Price'].mean())\n",
        "\n",
        "# Fill missing values for categorical columns with their mode (most frequent value)\n",
        "taxi['Time_of_Day'] = taxi['Time_of_Day'].fillna(taxi['Time_of_Day'].mode()[0])\n",
        "taxi['Day_of_Week'] = taxi['Day_of_Week'].fillna(taxi['Day_of_Week'].mode()[0])\n",
        "taxi['Traffic_Conditions'] = taxi['Traffic_Conditions'].fillna(taxi['Traffic_Conditions'].mode()[0])\n",
        "taxi['Weather'] = taxi['Weather'].fillna(taxi['Weather'].mode()[0])\n",
        "\n",
        "# Check the result\n",
        "print(taxi.isnull().sum())\n",
        "\n"
      ],
      "metadata": {
        "colab": {
          "base_uri": "https://localhost:8080/"
        },
        "id": "8JUVEFiDZl8O",
        "outputId": "f4b2cdcb-6476-4cfa-8c18-a2c0371d1d6c"
      },
      "execution_count": 6,
      "outputs": [
        {
          "output_type": "stream",
          "name": "stdout",
          "text": [
            "Trip_Distance_km         0\n",
            "Time_of_Day              0\n",
            "Day_of_Week              0\n",
            "Passenger_Count          0\n",
            "Traffic_Conditions       0\n",
            "Weather                  0\n",
            "Base_Fare                0\n",
            "Per_Km_Rate              0\n",
            "Per_Minute_Rate          0\n",
            "Trip_Duration_Minutes    0\n",
            "Trip_Price               0\n",
            "dtype: int64\n"
          ]
        }
      ]
    },
    {
      "cell_type": "code",
      "source": [
        "taxi.head()"
      ],
      "metadata": {
        "colab": {
          "base_uri": "https://localhost:8080/",
          "height": 226
        },
        "id": "YHil3yo1bBfW",
        "outputId": "47026130-f9ed-4a05-bd51-3fc534452fc6"
      },
      "execution_count": 7,
      "outputs": [
        {
          "output_type": "execute_result",
          "data": {
            "text/plain": [
              "   Trip_Distance_km Time_of_Day Day_of_Week  Passenger_Count  \\\n",
              "0         19.350000     Morning     Weekday              3.0   \n",
              "1         47.590000   Afternoon     Weekday              1.0   \n",
              "2         36.870000     Evening     Weekend              1.0   \n",
              "3         30.330000     Evening     Weekday              4.0   \n",
              "4         27.070547     Evening     Weekday              3.0   \n",
              "\n",
              "  Traffic_Conditions Weather  Base_Fare  Per_Km_Rate  Per_Minute_Rate  \\\n",
              "0                Low   Clear   3.560000         0.80             0.32   \n",
              "1               High   Clear   3.502989         0.62             0.43   \n",
              "2               High   Clear   2.700000         1.21             0.15   \n",
              "3                Low   Clear   3.480000         0.51             0.15   \n",
              "4               High   Clear   2.930000         0.63             0.32   \n",
              "\n",
              "   Trip_Duration_Minutes  Trip_Price  \n",
              "0                  53.82   36.262400  \n",
              "1                  40.57   56.874773  \n",
              "2                  37.27   52.903200  \n",
              "3                 116.81   36.469800  \n",
              "4                  22.64   15.618000  "
            ],
            "text/html": [
              "\n",
              "  <div id=\"df-dbcc3f11-4866-49d1-8dbc-73389ca889ec\" class=\"colab-df-container\">\n",
              "    <div>\n",
              "<style scoped>\n",
              "    .dataframe tbody tr th:only-of-type {\n",
              "        vertical-align: middle;\n",
              "    }\n",
              "\n",
              "    .dataframe tbody tr th {\n",
              "        vertical-align: top;\n",
              "    }\n",
              "\n",
              "    .dataframe thead th {\n",
              "        text-align: right;\n",
              "    }\n",
              "</style>\n",
              "<table border=\"1\" class=\"dataframe\">\n",
              "  <thead>\n",
              "    <tr style=\"text-align: right;\">\n",
              "      <th></th>\n",
              "      <th>Trip_Distance_km</th>\n",
              "      <th>Time_of_Day</th>\n",
              "      <th>Day_of_Week</th>\n",
              "      <th>Passenger_Count</th>\n",
              "      <th>Traffic_Conditions</th>\n",
              "      <th>Weather</th>\n",
              "      <th>Base_Fare</th>\n",
              "      <th>Per_Km_Rate</th>\n",
              "      <th>Per_Minute_Rate</th>\n",
              "      <th>Trip_Duration_Minutes</th>\n",
              "      <th>Trip_Price</th>\n",
              "    </tr>\n",
              "  </thead>\n",
              "  <tbody>\n",
              "    <tr>\n",
              "      <th>0</th>\n",
              "      <td>19.350000</td>\n",
              "      <td>Morning</td>\n",
              "      <td>Weekday</td>\n",
              "      <td>3.0</td>\n",
              "      <td>Low</td>\n",
              "      <td>Clear</td>\n",
              "      <td>3.560000</td>\n",
              "      <td>0.80</td>\n",
              "      <td>0.32</td>\n",
              "      <td>53.82</td>\n",
              "      <td>36.262400</td>\n",
              "    </tr>\n",
              "    <tr>\n",
              "      <th>1</th>\n",
              "      <td>47.590000</td>\n",
              "      <td>Afternoon</td>\n",
              "      <td>Weekday</td>\n",
              "      <td>1.0</td>\n",
              "      <td>High</td>\n",
              "      <td>Clear</td>\n",
              "      <td>3.502989</td>\n",
              "      <td>0.62</td>\n",
              "      <td>0.43</td>\n",
              "      <td>40.57</td>\n",
              "      <td>56.874773</td>\n",
              "    </tr>\n",
              "    <tr>\n",
              "      <th>2</th>\n",
              "      <td>36.870000</td>\n",
              "      <td>Evening</td>\n",
              "      <td>Weekend</td>\n",
              "      <td>1.0</td>\n",
              "      <td>High</td>\n",
              "      <td>Clear</td>\n",
              "      <td>2.700000</td>\n",
              "      <td>1.21</td>\n",
              "      <td>0.15</td>\n",
              "      <td>37.27</td>\n",
              "      <td>52.903200</td>\n",
              "    </tr>\n",
              "    <tr>\n",
              "      <th>3</th>\n",
              "      <td>30.330000</td>\n",
              "      <td>Evening</td>\n",
              "      <td>Weekday</td>\n",
              "      <td>4.0</td>\n",
              "      <td>Low</td>\n",
              "      <td>Clear</td>\n",
              "      <td>3.480000</td>\n",
              "      <td>0.51</td>\n",
              "      <td>0.15</td>\n",
              "      <td>116.81</td>\n",
              "      <td>36.469800</td>\n",
              "    </tr>\n",
              "    <tr>\n",
              "      <th>4</th>\n",
              "      <td>27.070547</td>\n",
              "      <td>Evening</td>\n",
              "      <td>Weekday</td>\n",
              "      <td>3.0</td>\n",
              "      <td>High</td>\n",
              "      <td>Clear</td>\n",
              "      <td>2.930000</td>\n",
              "      <td>0.63</td>\n",
              "      <td>0.32</td>\n",
              "      <td>22.64</td>\n",
              "      <td>15.618000</td>\n",
              "    </tr>\n",
              "  </tbody>\n",
              "</table>\n",
              "</div>\n",
              "    <div class=\"colab-df-buttons\">\n",
              "\n",
              "  <div class=\"colab-df-container\">\n",
              "    <button class=\"colab-df-convert\" onclick=\"convertToInteractive('df-dbcc3f11-4866-49d1-8dbc-73389ca889ec')\"\n",
              "            title=\"Convert this dataframe to an interactive table.\"\n",
              "            style=\"display:none;\">\n",
              "\n",
              "  <svg xmlns=\"http://www.w3.org/2000/svg\" height=\"24px\" viewBox=\"0 -960 960 960\">\n",
              "    <path d=\"M120-120v-720h720v720H120Zm60-500h600v-160H180v160Zm220 220h160v-160H400v160Zm0 220h160v-160H400v160ZM180-400h160v-160H180v160Zm440 0h160v-160H620v160ZM180-180h160v-160H180v160Zm440 0h160v-160H620v160Z\"/>\n",
              "  </svg>\n",
              "    </button>\n",
              "\n",
              "  <style>\n",
              "    .colab-df-container {\n",
              "      display:flex;\n",
              "      gap: 12px;\n",
              "    }\n",
              "\n",
              "    .colab-df-convert {\n",
              "      background-color: #E8F0FE;\n",
              "      border: none;\n",
              "      border-radius: 50%;\n",
              "      cursor: pointer;\n",
              "      display: none;\n",
              "      fill: #1967D2;\n",
              "      height: 32px;\n",
              "      padding: 0 0 0 0;\n",
              "      width: 32px;\n",
              "    }\n",
              "\n",
              "    .colab-df-convert:hover {\n",
              "      background-color: #E2EBFA;\n",
              "      box-shadow: 0px 1px 2px rgba(60, 64, 67, 0.3), 0px 1px 3px 1px rgba(60, 64, 67, 0.15);\n",
              "      fill: #174EA6;\n",
              "    }\n",
              "\n",
              "    .colab-df-buttons div {\n",
              "      margin-bottom: 4px;\n",
              "    }\n",
              "\n",
              "    [theme=dark] .colab-df-convert {\n",
              "      background-color: #3B4455;\n",
              "      fill: #D2E3FC;\n",
              "    }\n",
              "\n",
              "    [theme=dark] .colab-df-convert:hover {\n",
              "      background-color: #434B5C;\n",
              "      box-shadow: 0px 1px 3px 1px rgba(0, 0, 0, 0.15);\n",
              "      filter: drop-shadow(0px 1px 2px rgba(0, 0, 0, 0.3));\n",
              "      fill: #FFFFFF;\n",
              "    }\n",
              "  </style>\n",
              "\n",
              "    <script>\n",
              "      const buttonEl =\n",
              "        document.querySelector('#df-dbcc3f11-4866-49d1-8dbc-73389ca889ec button.colab-df-convert');\n",
              "      buttonEl.style.display =\n",
              "        google.colab.kernel.accessAllowed ? 'block' : 'none';\n",
              "\n",
              "      async function convertToInteractive(key) {\n",
              "        const element = document.querySelector('#df-dbcc3f11-4866-49d1-8dbc-73389ca889ec');\n",
              "        const dataTable =\n",
              "          await google.colab.kernel.invokeFunction('convertToInteractive',\n",
              "                                                    [key], {});\n",
              "        if (!dataTable) return;\n",
              "\n",
              "        const docLinkHtml = 'Like what you see? Visit the ' +\n",
              "          '<a target=\"_blank\" href=https://colab.research.google.com/notebooks/data_table.ipynb>data table notebook</a>'\n",
              "          + ' to learn more about interactive tables.';\n",
              "        element.innerHTML = '';\n",
              "        dataTable['output_type'] = 'display_data';\n",
              "        await google.colab.output.renderOutput(dataTable, element);\n",
              "        const docLink = document.createElement('div');\n",
              "        docLink.innerHTML = docLinkHtml;\n",
              "        element.appendChild(docLink);\n",
              "      }\n",
              "    </script>\n",
              "  </div>\n",
              "\n",
              "\n",
              "<div id=\"df-6e680c08-0ccc-4a9f-8ac8-3707b0be6c62\">\n",
              "  <button class=\"colab-df-quickchart\" onclick=\"quickchart('df-6e680c08-0ccc-4a9f-8ac8-3707b0be6c62')\"\n",
              "            title=\"Suggest charts\"\n",
              "            style=\"display:none;\">\n",
              "\n",
              "<svg xmlns=\"http://www.w3.org/2000/svg\" height=\"24px\"viewBox=\"0 0 24 24\"\n",
              "     width=\"24px\">\n",
              "    <g>\n",
              "        <path d=\"M19 3H5c-1.1 0-2 .9-2 2v14c0 1.1.9 2 2 2h14c1.1 0 2-.9 2-2V5c0-1.1-.9-2-2-2zM9 17H7v-7h2v7zm4 0h-2V7h2v10zm4 0h-2v-4h2v4z\"/>\n",
              "    </g>\n",
              "</svg>\n",
              "  </button>\n",
              "\n",
              "<style>\n",
              "  .colab-df-quickchart {\n",
              "      --bg-color: #E8F0FE;\n",
              "      --fill-color: #1967D2;\n",
              "      --hover-bg-color: #E2EBFA;\n",
              "      --hover-fill-color: #174EA6;\n",
              "      --disabled-fill-color: #AAA;\n",
              "      --disabled-bg-color: #DDD;\n",
              "  }\n",
              "\n",
              "  [theme=dark] .colab-df-quickchart {\n",
              "      --bg-color: #3B4455;\n",
              "      --fill-color: #D2E3FC;\n",
              "      --hover-bg-color: #434B5C;\n",
              "      --hover-fill-color: #FFFFFF;\n",
              "      --disabled-bg-color: #3B4455;\n",
              "      --disabled-fill-color: #666;\n",
              "  }\n",
              "\n",
              "  .colab-df-quickchart {\n",
              "    background-color: var(--bg-color);\n",
              "    border: none;\n",
              "    border-radius: 50%;\n",
              "    cursor: pointer;\n",
              "    display: none;\n",
              "    fill: var(--fill-color);\n",
              "    height: 32px;\n",
              "    padding: 0;\n",
              "    width: 32px;\n",
              "  }\n",
              "\n",
              "  .colab-df-quickchart:hover {\n",
              "    background-color: var(--hover-bg-color);\n",
              "    box-shadow: 0 1px 2px rgba(60, 64, 67, 0.3), 0 1px 3px 1px rgba(60, 64, 67, 0.15);\n",
              "    fill: var(--button-hover-fill-color);\n",
              "  }\n",
              "\n",
              "  .colab-df-quickchart-complete:disabled,\n",
              "  .colab-df-quickchart-complete:disabled:hover {\n",
              "    background-color: var(--disabled-bg-color);\n",
              "    fill: var(--disabled-fill-color);\n",
              "    box-shadow: none;\n",
              "  }\n",
              "\n",
              "  .colab-df-spinner {\n",
              "    border: 2px solid var(--fill-color);\n",
              "    border-color: transparent;\n",
              "    border-bottom-color: var(--fill-color);\n",
              "    animation:\n",
              "      spin 1s steps(1) infinite;\n",
              "  }\n",
              "\n",
              "  @keyframes spin {\n",
              "    0% {\n",
              "      border-color: transparent;\n",
              "      border-bottom-color: var(--fill-color);\n",
              "      border-left-color: var(--fill-color);\n",
              "    }\n",
              "    20% {\n",
              "      border-color: transparent;\n",
              "      border-left-color: var(--fill-color);\n",
              "      border-top-color: var(--fill-color);\n",
              "    }\n",
              "    30% {\n",
              "      border-color: transparent;\n",
              "      border-left-color: var(--fill-color);\n",
              "      border-top-color: var(--fill-color);\n",
              "      border-right-color: var(--fill-color);\n",
              "    }\n",
              "    40% {\n",
              "      border-color: transparent;\n",
              "      border-right-color: var(--fill-color);\n",
              "      border-top-color: var(--fill-color);\n",
              "    }\n",
              "    60% {\n",
              "      border-color: transparent;\n",
              "      border-right-color: var(--fill-color);\n",
              "    }\n",
              "    80% {\n",
              "      border-color: transparent;\n",
              "      border-right-color: var(--fill-color);\n",
              "      border-bottom-color: var(--fill-color);\n",
              "    }\n",
              "    90% {\n",
              "      border-color: transparent;\n",
              "      border-bottom-color: var(--fill-color);\n",
              "    }\n",
              "  }\n",
              "</style>\n",
              "\n",
              "  <script>\n",
              "    async function quickchart(key) {\n",
              "      const quickchartButtonEl =\n",
              "        document.querySelector('#' + key + ' button');\n",
              "      quickchartButtonEl.disabled = true;  // To prevent multiple clicks.\n",
              "      quickchartButtonEl.classList.add('colab-df-spinner');\n",
              "      try {\n",
              "        const charts = await google.colab.kernel.invokeFunction(\n",
              "            'suggestCharts', [key], {});\n",
              "      } catch (error) {\n",
              "        console.error('Error during call to suggestCharts:', error);\n",
              "      }\n",
              "      quickchartButtonEl.classList.remove('colab-df-spinner');\n",
              "      quickchartButtonEl.classList.add('colab-df-quickchart-complete');\n",
              "    }\n",
              "    (() => {\n",
              "      let quickchartButtonEl =\n",
              "        document.querySelector('#df-6e680c08-0ccc-4a9f-8ac8-3707b0be6c62 button');\n",
              "      quickchartButtonEl.style.display =\n",
              "        google.colab.kernel.accessAllowed ? 'block' : 'none';\n",
              "    })();\n",
              "  </script>\n",
              "</div>\n",
              "\n",
              "    </div>\n",
              "  </div>\n"
            ],
            "application/vnd.google.colaboratory.intrinsic+json": {
              "type": "dataframe",
              "variable_name": "taxi",
              "summary": "{\n  \"name\": \"taxi\",\n  \"rows\": 1000,\n  \"fields\": [\n    {\n      \"column\": \"Trip_Distance_km\",\n      \"properties\": {\n        \"dtype\": \"number\",\n        \"std\": 19.40077526506869,\n        \"min\": 1.23,\n        \"max\": 146.0670471598387,\n        \"num_unique_values\": 868,\n        \"samples\": [\n          31.29,\n          40.31,\n          18.55\n        ],\n        \"semantic_type\": \"\",\n        \"description\": \"\"\n      }\n    },\n    {\n      \"column\": \"Time_of_Day\",\n      \"properties\": {\n        \"dtype\": \"category\",\n        \"num_unique_values\": 4,\n        \"samples\": [\n          \"Afternoon\",\n          \"Night\",\n          \"Morning\"\n        ],\n        \"semantic_type\": \"\",\n        \"description\": \"\"\n      }\n    },\n    {\n      \"column\": \"Day_of_Week\",\n      \"properties\": {\n        \"dtype\": \"category\",\n        \"num_unique_values\": 2,\n        \"samples\": [\n          \"Weekend\",\n          \"Weekday\"\n        ],\n        \"semantic_type\": \"\",\n        \"description\": \"\"\n      }\n    },\n    {\n      \"column\": \"Passenger_Count\",\n      \"properties\": {\n        \"dtype\": \"number\",\n        \"std\": 1.074311254240026,\n        \"min\": 1.0,\n        \"max\": 4.0,\n        \"num_unique_values\": 5,\n        \"samples\": [\n          1.0,\n          2.4768421052631577\n        ],\n        \"semantic_type\": \"\",\n        \"description\": \"\"\n      }\n    },\n    {\n      \"column\": \"Traffic_Conditions\",\n      \"properties\": {\n        \"dtype\": \"category\",\n        \"num_unique_values\": 3,\n        \"samples\": [\n          \"Low\",\n          \"High\"\n        ],\n        \"semantic_type\": \"\",\n        \"description\": \"\"\n      }\n    },\n    {\n      \"column\": \"Weather\",\n      \"properties\": {\n        \"dtype\": \"category\",\n        \"num_unique_values\": 3,\n        \"samples\": [\n          \"Clear\",\n          \"Rain\"\n        ],\n        \"semantic_type\": \"\",\n        \"description\": \"\"\n      }\n    },\n    {\n      \"column\": \"Base_Fare\",\n      \"properties\": {\n        \"dtype\": \"number\",\n        \"std\": 0.8481065939428996,\n        \"min\": 2.01,\n        \"max\": 5.0,\n        \"num_unique_values\": 291,\n        \"samples\": [\n          4.61,\n          3.62\n        ],\n        \"semantic_type\": \"\",\n        \"description\": \"\"\n      }\n    },\n    {\n      \"column\": \"Per_Km_Rate\",\n      \"properties\": {\n        \"dtype\": \"number\",\n        \"std\": 0.41892165211859317,\n        \"min\": 0.5,\n        \"max\": 2.0,\n        \"num_unique_values\": 151,\n        \"samples\": [\n          1.65,\n          0.84\n        ],\n        \"semantic_type\": \"\",\n        \"description\": \"\"\n      }\n    },\n    {\n      \"column\": \"Per_Minute_Rate\",\n      \"properties\": {\n        \"dtype\": \"number\",\n        \"std\": 0.11266195444397822,\n        \"min\": 0.1,\n        \"max\": 0.5,\n        \"num_unique_values\": 42,\n        \"samples\": [\n          0.42,\n          0.12\n        ],\n        \"semantic_type\": \"\",\n        \"description\": \"\"\n      }\n    },\n    {\n      \"column\": \"Trip_Duration_Minutes\",\n      \"properties\": {\n        \"dtype\": \"number\",\n        \"std\": 31.339413133350238,\n        \"min\": 5.01,\n        \"max\": 119.84,\n        \"num_unique_values\": 918,\n        \"samples\": [\n          15.7,\n          69.06\n        ],\n        \"semantic_type\": \"\",\n        \"description\": \"\"\n      }\n    },\n    {\n      \"column\": \"Trip_Price\",\n      \"properties\": {\n        \"dtype\": \"number\",\n        \"std\": 39.46480990756179,\n        \"min\": 6.1269,\n        \"max\": 332.0436886774302,\n        \"num_unique_values\": 952,\n        \"samples\": [\n          59.96039999999999,\n          69.99549999999999\n        ],\n        \"semantic_type\": \"\",\n        \"description\": \"\"\n      }\n    }\n  ]\n}"
            }
          },
          "metadata": {},
          "execution_count": 7
        }
      ]
    },
    {
      "cell_type": "code",
      "source": [
        "# first we see the kind of data before\n",
        "for column in ['Traffic_Conditions', 'Time_of_Day', 'Day_of_Week', 'Weather']:\n",
        "    unique_values = taxi[column].unique()\n",
        "    print(f\"Unique values in '{column}': {unique_values}\")"
      ],
      "metadata": {
        "colab": {
          "base_uri": "https://localhost:8080/"
        },
        "id": "FpmiMMIMcawC",
        "outputId": "9e278686-8cdb-4632-c75e-67e25e9ee8b5"
      },
      "execution_count": 8,
      "outputs": [
        {
          "output_type": "stream",
          "name": "stdout",
          "text": [
            "Unique values in 'Traffic_Conditions': ['Low' 'High' 'Medium']\n",
            "Unique values in 'Time_of_Day': ['Morning' 'Afternoon' 'Evening' 'Night']\n",
            "Unique values in 'Day_of_Week': ['Weekday' 'Weekend']\n",
            "Unique values in 'Weather': ['Clear' 'Rain' 'Snow']\n"
          ]
        }
      ]
    },
    {
      "cell_type": "code",
      "source": [
        "#now we onehot encode the nonsensical data.\n",
        "one_hot_encoded_data = pd.get_dummies(taxi, columns=['Traffic_Conditions', 'Time_of_Day', 'Day_of_Week', 'Weather'])"
      ],
      "metadata": {
        "id": "p5ZXxrDchOXK"
      },
      "execution_count": 9,
      "outputs": []
    },
    {
      "cell_type": "code",
      "source": [
        "taxi_encoded = one_hot_encoded_data"
      ],
      "metadata": {
        "id": "d5Qm9lMRhjdI"
      },
      "execution_count": 10,
      "outputs": []
    },
    {
      "cell_type": "code",
      "source": [
        "#creating a\n",
        "x = taxi_encoded.drop('Trip_Price', axis=1)\n",
        "y = taxi_encoded['Trip_Price']"
      ],
      "metadata": {
        "id": "LMAjNFaZhyKF"
      },
      "execution_count": 11,
      "outputs": []
    },
    {
      "cell_type": "code",
      "source": [
        "#train the model.\n",
        "x_train, x_test, y_train, y_test = train_test_split(x, y, test_size=0.2, random_state=42)"
      ],
      "metadata": {
        "id": "G5cObSkPjvjH"
      },
      "execution_count": 12,
      "outputs": []
    },
    {
      "cell_type": "code",
      "source": [
        "# convert data to d matrix\n",
        "dtrain = xgb.DMatrix(x_train, label=y_train)\n",
        "dtest = xgb.DMatrix(x_test, label=y_test)"
      ],
      "metadata": {
        "id": "Z4t3oqNulCDd"
      },
      "execution_count": 13,
      "outputs": []
    },
    {
      "cell_type": "code",
      "source": [
        "#define the parameters\n",
        "\n",
        "xg_reg = xgb.XGBRegressor(\n",
        "    objective='reg:squarederror',\n",
        "    colsample_bytree=0.5,\n",
        "    learning_rate=0.1,\n",
        "    max_depth=4,\n",
        "    alpha=2,\n",
        "    n_estimators=500,\n",
        "    subsample=0.8,\n",
        "    min_child_weight=5,\n",
        "    gamma=2\n",
        ")"
      ],
      "metadata": {
        "id": "TBNFawH4ipBS"
      },
      "execution_count": 14,
      "outputs": []
    },
    {
      "cell_type": "code",
      "source": [
        "#train the model\n",
        "\n",
        "model = xg_reg.fit(x_train, y_train)"
      ],
      "metadata": {
        "id": "PFmPaBwElWST"
      },
      "execution_count": 15,
      "outputs": []
    },
    {
      "cell_type": "code",
      "source": [
        "#predictions\n",
        "predictions = model.predict(x_test)"
      ],
      "metadata": {
        "id": "3ouoSuWZle4P"
      },
      "execution_count": 17,
      "outputs": []
    },
    {
      "cell_type": "code",
      "source": [
        "#model perfomance\n",
        "mse = mean_squared_error(y_test, predictions)\n",
        "r2 = r2_score(y_test, predictions)\n",
        "print(f\"Mean Squared Error: {mse}\")\n",
        "print(f\"R-squared: {r2}\")"
      ],
      "metadata": {
        "colab": {
          "base_uri": "https://localhost:8080/"
        },
        "id": "3fMkLRR_mJd4",
        "outputId": "50638088-1b00-489e-88fe-f7e886e81b51"
      },
      "execution_count": 18,
      "outputs": [
        {
          "output_type": "stream",
          "name": "stdout",
          "text": [
            "Mean Squared Error: 70.139769384495\n",
            "R-squared: 0.9155313019204472\n"
          ]
        }
      ]
    }
  ]
}